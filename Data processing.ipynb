{
 "cells": [
  {
   "cell_type": "code",
   "execution_count": 15,
   "metadata": {},
   "outputs": [
    {
     "name": "stdout",
     "output_type": "stream",
     "text": [
      "C:\\Users\\Rahul Reddy\\Desktop\n"
     ]
    }
   ],
   "source": [
    "cd \"C:\\Users\\Rahul Reddy\\Desktop\""
   ]
  },
  {
   "cell_type": "code",
   "execution_count": 16,
   "metadata": {},
   "outputs": [
    {
     "name": "stdout",
     "output_type": "stream",
     "text": [
      " Volume in drive C is OS\n",
      " Volume Serial Number is 1078-A3AC\n",
      "\n",
      " Directory of C:\\Users\\Rahul Reddy\\Desktop\n",
      "\n",
      "11/09/2017  12:15 PM    <DIR>          .\n",
      "11/09/2017  12:15 PM    <DIR>          ..\n",
      "10/12/2017  12:37 PM    <DIR>          680 Python\n",
      "10/18/2017  10:33 AM           185,907 akhil resume.pdf\n",
      "10/11/2017  04:38 PM             1,350 Android Studio.lnk\n",
      "09/29/2017  07:59 PM    <DIR>          Calculator\n",
      "11/30/2016  11:55 AM             1,305 Dropbox.lnk\n",
      "10/04/2017  05:08 PM            15,945 EXAM 1.docx\n",
      "10/18/2017  11:55 AM           330,209 Gamya Pattam Resume final.pdf\n",
      "01/31/2017  11:04 PM    <DIR>          GIT\n",
      "11/06/2017  06:30 PM             2,338 Google Chrome.lnk\n",
      "10/03/2017  07:36 PM           363,067 HW Assignment 1.docx\n",
      "11/01/2017  11:35 AM           381,795 HW2.pdf\n",
      "02/20/2017  05:51 PM    <DIR>          JAVA\n",
      "08/31/2017  07:29 PM             2,070 Jupyter Notebook.lnk\n",
      "08/06/2017  10:25 PM            15,019 LOR1.docx\n",
      "08/06/2017  10:35 PM            20,720 LOR2.docx\n",
      "08/06/2017  10:46 PM            13,666 LOR3.docx\n",
      "01/05/2017  06:49 PM    <DIR>          NJ\n",
      "09/18/2017  05:07 PM            17,089 Pop Quiz 1.docx\n",
      "09/17/2017  11:03 PM             2,280 program3.cpp\n",
      "09/24/2017  10:51 PM             3,841 Program4.cpp\n",
      "10/09/2017  12:46 PM             1,950 program5.cpp\n",
      "10/18/2017  09:59 AM             4,023 program6.cpp\n",
      "10/29/2017  12:58 PM             3,681 program7.cpp\n",
      "11/30/2016  06:14 PM           531,368 putty.exe\n",
      "06/04/2017  12:59 PM    <DIR>          python\n",
      "01/31/2017  02:11 PM    <DIR>          Rahul\n",
      "02/20/2017  05:54 PM            26,930 Resume.docx\n",
      "02/20/2017  05:54 PM           560,163 Resume.pdf\n",
      "10/12/2017  09:31 AM            33,636 Resume_rahul.docx\n",
      "10/18/2017  11:58 AM           558,018 Resume_rahul.pdf\n",
      "11/09/2017  11:26 AM        13,177,980 southwest1.csv\n",
      "08/31/2017  07:21 PM             2,126 Spyder.lnk\n",
      "02/19/2017  01:28 AM    <DIR>          Udemy Certificates\n",
      "11/09/2017  11:06 AM         1,576,936 United.csv\n",
      "              26 File(s)     17,833,412 bytes\n",
      "              10 Dir(s)  401,299,447,808 bytes free\n"
     ]
    }
   ],
   "source": [
    "ls"
   ]
  },
  {
   "cell_type": "markdown",
   "metadata": {},
   "source": [
    "ACCESS THE DATA\n"
   ]
  },
  {
   "cell_type": "code",
   "execution_count": 17,
   "metadata": {
    "collapsed": true
   },
   "outputs": [],
   "source": [
    "with open('southwest1.csv', 'w', newline='') as outfile:\n",
    "    writer = csv.writer(outfile)"
   ]
  },
  {
   "cell_type": "markdown",
   "metadata": {},
   "source": [
    "DATA PROCESSING\n",
    "\n",
    "getting the average"
   ]
  },
  {
   "cell_type": "code",
   "execution_count": 9,
   "metadata": {},
   "outputs": [
    {
     "name": "stdout",
     "output_type": "stream",
     "text": [
      "148.46153846153845\n"
     ]
    }
   ],
   "source": [
    "f = open('1Records.txt') \n",
    "f.readline() #eliminates the header\n",
    "total = 0\n",
    "count = 0\n",
    "\n",
    "for line in f:\n",
    "    L = line.split(',')\n",
    "   # print(L)\n",
    "    count+=1\n",
    "    total += int(L[1])\n",
    "    \n",
    "f.close()\n",
    "\n",
    "average = total/count\n",
    "print(average)"
   ]
  },
  {
   "cell_type": "code",
   "execution_count": 19,
   "metadata": {},
   "outputs": [
    {
     "data": {
      "text/plain": [
       "[<matplotlib.lines.Line2D at 0x170bfe17ef0>]"
      ]
     },
     "execution_count": 19,
     "metadata": {},
     "output_type": "execute_result"
    },
    {
     "data": {
      "image/png": "[encoded data removed]",
      "text/plain": [
       "<matplotlib.figure.Figure at 0x170bfd4abe0>"
      ]
     },
     "metadata": {},
     "output_type": "display_data"
    }
   ],
   "source": [
    "%matplotlib inline\n",
    "import matplotlib.pyplot as plt\n",
    "\n",
    "f = open('1Records.txt') \n",
    "f.readline() #eliminates the header\n",
    "weights = []\n",
    "\n",
    "for line in f:\n",
    "    L = line.split(',')\n",
    "    weights.append(int(L[1]))\n",
    "\n",
    "f.close()\n",
    "plt.plot(weights)    "
   ]
  },
  {
   "cell_type": "code",
   "execution_count": 22,
   "metadata": {},
   "outputs": [
    {
     "name": "stdout",
     "output_type": "stream",
     "text": [
      "{'Alone': 6, 'With friends': 5, 'With family': 2}\n"
     ]
    }
   ],
   "source": [
    "f = open('1Records.txt') \n",
    "f.readline() #eliminates the header\n",
    "\n",
    "people = {}\n",
    "\n",
    "for line in f:\n",
    "    who = line.split(',')[2].strip('\\n')\n",
    "    #who = line[2].strip('\\n')\n",
    "    if who in people:\n",
    "        people[who] += 1\n",
    "    else:\n",
    "        people[who] = 1\n",
    "    \n",
    "f.close()\n",
    "print(people)"
   ]
  },
  {
   "cell_type": "markdown",
   "metadata": {},
   "source": [
    "# CLEANING THE FILE AND FORMATTING THE OUTPUT"
   ]
  },
  {
   "cell_type": "code",
   "execution_count": 30,
   "metadata": {
    "collapsed": true
   },
   "outputs": [],
   "source": [
    "text = []\n",
    "\n",
    "initial = open('2Records.txt')\n",
    "\n",
    "cleaned = open('2Recordsformatted.txt','w')\n",
    "\n",
    "cleaned.write(initial.readline().strip(\"\\n\")+ \",Eating\\n\")\n",
    "currrentCategory = \"\"\n",
    "\n",
    "for line in initial:\n",
    "    text = line.split(',')\n",
    "    if(len(text) == 1 ):\n",
    "        currentCategory = line\n",
    "    else:\n",
    "        cleaned.write(text[0] + \",\" + text[1].strip(\"\\n\") + \",\" + currentCategory + \"\\n\")\n",
    "\n",
    "initial.close()\n",
    "cleaned.close()\n",
    "        \n",
    "    \n",
    "    "
   ]
  },
  {
   "cell_type": "markdown",
   "metadata": {
    "collapsed": true
   },
   "source": [
    "# Cleaning a data  set\n"
   ]
  },
  {
   "cell_type": "code",
   "execution_count": 4,
   "metadata": {},
   "outputs": [
    {
     "name": "stdout",
     "output_type": "stream",
     "text": [
      " Volume in drive C is OS\n",
      " Volume Serial Number is 1078-A3AC\n",
      "\n",
      " Directory of C:\\Users\\Rahul Reddy\\Documents\n",
      "\n",
      "10/12/2017  12:36 PM    <DIR>          .\n",
      "10/12/2017  12:36 PM    <DIR>          ..\n",
      "10/10/2017  01:01 PM    <DIR>          .ipynb_checkpoints\n",
      "09/20/2017  02:52 PM    <DIR>          Calculator\n",
      "09/28/2017  10:13 PM        18,521,156 Calculator.7z\n",
      "12/13/2016  04:54 AM    <DIR>          Custom Office Templates\n",
      "10/12/2017  12:36 PM            21,070 Data processing.ipynb\n",
      "06/25/2017  02:09 PM    <DIR>          GIS DataBase\n",
      "01/31/2017  11:45 PM    <DIR>          GitHub\n",
      "09/27/2017  02:12 PM    <DIR>          HorizontalScroll\n",
      "09/18/2017  12:01 AM    <DIR>          java\n",
      "05/11/2017  04:50 PM    <DIR>          NetBeansProjects\n",
      "08/31/2017  08:15 PM    <DIR>          Python Scripts\n",
      "10/03/2017  12:04 PM         2,088,712 Untitled.ipynb\n",
      "05/18/2017  03:58 AM    <DIR>          Vadina pictures\n",
      "               3 File(s)     20,630,938 bytes\n",
      "              12 Dir(s)  419,178,504,192 bytes free\n"
     ]
    }
   ],
   "source": [
    "ls\n"
   ]
  },
  {
   "cell_type": "code",
   "execution_count": 5,
   "metadata": {},
   "outputs": [
    {
     "name": "stdout",
     "output_type": "stream",
     "text": [
      "C:\\Users\\Rahul Reddy\\Desktop\\680 Python\n"
     ]
    }
   ],
   "source": [
    "cd \"C:\\Users\\Rahul Reddy\\Desktop\\680 Python\""
   ]
  },
  {
   "cell_type": "code",
   "execution_count": 6,
   "metadata": {},
   "outputs": [
    {
     "name": "stdout",
     "output_type": "stream",
     "text": [
      " Volume in drive C is OS\n",
      " Volume Serial Number is 1078-A3AC\n",
      "\n",
      " Directory of C:\\Users\\Rahul Reddy\\Desktop\\680 Python\n",
      "\n",
      "10/12/2017  12:37 PM    <DIR>          .\n",
      "10/12/2017  12:37 PM    <DIR>          ..\n",
      "08/29/2017  11:14 PM         5,337,078 1-Course Administration.pptx\n",
      "08/31/2017  03:35 PM         3,225,917 2-Functions, loops, and conditionals - so far.pptx\n",
      "09/13/2017  06:01 PM             1,418 class notes.txt\n",
      "10/10/2017  02:12 PM    <DIR>          data\n",
      "10/12/2017  12:32 PM           789,540 data set.zip\n",
      "10/10/2017  12:37 PM           160,235 data.zip\n",
      "05/21/2015  04:48 PM        33,207,348 dataset.csv\n",
      "07/28/2017  12:20 PM    <DIR>          Example drawings\n",
      "08/31/2017  03:34 PM           158,573 Example drawings.zip\n",
      "09/28/2017  12:26 PM            13,000 L_SystemGarden_DineshSandadi_SumanthNanduri.ipynb\n",
      "09/06/2017  12:09 AM           866,485 Open with Internet Explorer and allow blocked content.zip\n",
      "07/28/2017  12:10 PM    <DIR>          Practice questions\n",
      "               9 File(s)     43,759,594 bytes\n",
      "               5 Dir(s)  419,175,563,264 bytes free\n"
     ]
    }
   ],
   "source": [
    "ls\n"
   ]
  },
  {
   "cell_type": "code",
   "execution_count": 27,
   "metadata": {
    "collapsed": true
   },
   "outputs": [],
   "source": [
    "##not complete\n",
    "\n",
    "file_orginal = open(\"dataset.csv\")\n",
    "file_modified = open(\"modifieddataset.csv\",\"w\")\n",
    "\n",
    "content = []\n",
    "\n",
    "file_modified.write(file_orginal.readline())\n",
    "\n",
    "for line in file_orginal:\n",
    "    content = line.split(',')\n",
    "    res = content[0] + ','\n",
    "    content = content[1:len(content)-1]\n",
    "    \n",
    "    for value in content:\n",
    "        if (float)value > 0:\n",
    "            \n",
    "    "
   ]
  },
  {
   "cell_type": "code",
   "execution_count": null,
   "metadata": {
    "collapsed": true
   },
   "outputs": [],
   "source": [
    "##not complete\n",
    "file_orginal = open(\"dataset.csv\")\n",
    "file_modified = open(\"averagedataset.csv\",\"w\")\n",
    "\n",
    "content = []\n",
    "firstLine = file_orginal.readline().split(',')\n",
    "file_modified.write(firstLine[1:])\n",
    "\n",
    "for line in file_orginal:\n",
    "    line = line.split(',')\n",
    "    line.\n",
    "    \n",
    "    "
   ]
  },
  {
   "cell_type": "code",
   "execution_count": null,
   "metadata": {
    "collapsed": true
   },
   "outputs": [],
   "source": []
  }
 ],
 "metadata": {
  "kernelspec": {
   "display_name": "Python 3",
   "language": "python",
   "name": "python3"
  },
  "language_info": {
   "codemirror_mode": {
    "name": "ipython",
    "version": 3
   },
   "file_extension": ".py",
   "mimetype": "text/x-python",
   "name": "python",
   "nbconvert_exporter": "python",
   "pygments_lexer": "ipython3",
   "version": "3.6.1"
  }
 },
 "nbformat": 4,
 "nbformat_minor": 2
}
