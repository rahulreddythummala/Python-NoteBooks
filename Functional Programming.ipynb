{
 "cells": [
  {
   "cell_type": "code",
   "execution_count": 1,
   "metadata": {},
   "outputs": [
    {
     "data": {
      "text/plain": [
       "<function __main__.<lambda>>"
      ]
     },
     "execution_count": 1,
     "metadata": {},
     "output_type": "execute_result"
    }
   ],
   "source": [
    "lambda x: x**x\n",
    "    "
   ]
  },
  {
   "cell_type": "code",
   "execution_count": 4,
   "metadata": {},
   "outputs": [
    {
     "data": {
      "text/plain": [
       "[4.1866666666666665,\n",
       " 33.49333333333333,\n",
       " 113.03999999999999,\n",
       " 267.94666666666666,\n",
       " 523.3333333333334]"
      ]
     },
     "execution_count": 4,
     "metadata": {},
     "output_type": "execute_result"
    }
   ],
   "source": [
    "def compute(formula,arguments):\n",
    "    return list(map(formula,arguments))\n",
    "    \n",
    "compute(lambda x:(4/3)*3.14*x**3,range(1,6))       ##map evaluates the aruguments on the function "
   ]
  },
  {
   "cell_type": "code",
   "execution_count": 5,
   "metadata": {},
   "outputs": [
    {
     "data": {
      "text/plain": [
       "[1, 2, 3, 4, 5]"
      ]
     },
     "execution_count": 5,
     "metadata": {},
     "output_type": "execute_result"
    }
   ],
   "source": [
    "def compute(formula,arguments):\n",
    "    return list(filter(formula,arguments))\n",
    "    \n",
    "compute(lambda x:(4/3)*3.14*x**3,range(1,6))       ##filter returns the values that pass through the function "
   ]
  },
  {
   "cell_type": "code",
   "execution_count": 4,
   "metadata": {},
   "outputs": [
    {
     "data": {
      "text/plain": [
       "[2, 4]"
      ]
     },
     "execution_count": 4,
     "metadata": {},
     "output_type": "execute_result"
    }
   ],
   "source": [
    "newlist= []\n",
    "def filt(function, list):\n",
    "    for i in list:\n",
    "        if(function(i)):\n",
    "            newlist.append(i)\n",
    "    return newlist\n",
    "\n",
    "filt(lambda x:(x%2 == 0), [1,2,3,4,5])"
   ]
  },
  {
   "cell_type": "code",
   "execution_count": 5,
   "metadata": {},
   "outputs": [
    {
     "data": {
      "text/plain": [
       "[2, 4]"
      ]
     },
     "execution_count": 5,
     "metadata": {},
     "output_type": "execute_result"
    }
   ],
   "source": [
    "list(filter(lambda x:(x%2 == 0), [1,2,3,4,5]))"
   ]
  },
  {
   "cell_type": "code",
   "execution_count": 9,
   "metadata": {},
   "outputs": [
    {
     "data": {
      "text/plain": [
       "20"
      ]
     },
     "execution_count": 9,
     "metadata": {},
     "output_type": "execute_result"
    }
   ],
   "source": [
    "def F(x,y):\n",
    "    if(y == 1):\n",
    "        return x\n",
    "    return x+F(x,y-1)\n",
    "    \n",
    "F(5,4)"
   ]
  },
  {
   "cell_type": "code",
   "execution_count": 14,
   "metadata": {},
   "outputs": [
    {
     "data": {
      "text/plain": [
       "24"
      ]
     },
     "execution_count": 14,
     "metadata": {},
     "output_type": "execute_result"
    }
   ],
   "source": [
    "def head(a,b):\n",
    "    if(b == a):\n",
    "        return b\n",
    "    return b*head(a ,b-1)\n",
    "\n",
    "head(1,4)"
   ]
  },
  {
   "cell_type": "code",
   "execution_count": 20,
   "metadata": {},
   "outputs": [
    {
     "data": {
      "text/plain": [
       "24"
      ]
     },
     "execution_count": 20,
     "metadata": {},
     "output_type": "execute_result"
    }
   ],
   "source": [
    "def tail(a,b):\n",
    "    def acc(result, x):\n",
    "        if(x == a):\n",
    "            return result*a\n",
    "        return acc(result*x ,x-1)\n",
    "    return acc(1,b)\n",
    "\n",
    "tail(1,4)"
   ]
  },
  {
   "cell_type": "code",
   "execution_count": 24,
   "metadata": {},
   "outputs": [
    {
     "data": {
      "text/plain": [
       "285"
      ]
     },
     "execution_count": 24,
     "metadata": {},
     "output_type": "execute_result"
    }
   ],
   "source": [
    "def integral(F,A,B,dx):\n",
    "    if A >= B:\n",
    "        return F(B) *dx\n",
    "    else:\n",
    "        return F(A)*dx + integral(F,A+dx,B,dx)\n",
    "    \n",
    "integral(lambda x: x**2, 0, 9, 1 )"
   ]
  },
  {
   "cell_type": "code",
   "execution_count": 35,
   "metadata": {},
   "outputs": [
    {
     "name": "stdout",
     "output_type": "stream",
     "text": [
      "38 calls made\n"
     ]
    },
    {
     "data": {
      "text/plain": [
       "253.21875"
      ]
     },
     "execution_count": 35,
     "metadata": {},
     "output_type": "execute_result"
    }
   ],
   "source": [
    "call = 0\n",
    "def tailIntegral(F,A,B,dx):\n",
    "        def acc(result, progress):\n",
    "            global call\n",
    "            call+=1\n",
    "            if progress>B:\n",
    "                print(call,\"calls made\")\n",
    "                return result\n",
    "            return acc(F(progress)*dx+result, progress+dx)\n",
    "        return acc(0,A)\n",
    "tailIntegral(lambda x: x**2, 0, 9, 0.25 )"
   ]
  },
  {
   "cell_type": "code",
   "execution_count": 5,
   "metadata": {},
   "outputs": [
    {
     "data": {
      "text/plain": [
       "8"
      ]
     },
     "execution_count": 5,
     "metadata": {},
     "output_type": "execute_result"
    }
   ],
   "source": [
    "def power(a,b):\n",
    "    if b == 0:\n",
    "        return 1    \n",
    "    elif b%2 == 0:\n",
    "        return power(a**2 , int(b/2))\n",
    "    else:\n",
    "        return a*power(a**2, int(b/2))\n",
    "\n",
    "power(2,3)\n",
    "    "
   ]
  },
  {
   "cell_type": "code",
   "execution_count": 6,
   "metadata": {},
   "outputs": [
    {
     "data": {
      "text/plain": [
       "8"
      ]
     },
     "execution_count": 6,
     "metadata": {},
     "output_type": "execute_result"
    }
   ],
   "source": [
    "def tailpower(a,b):\n",
    "    def acc(r, X):\n",
    "        if X == 0:\n",
    "            return 1\n",
    "        elif X % 2 == 0:\n",
    "            return acc(r*a**2, int(b/2))\n",
    "        else:\n",
    "            return acc(r*a*a**2, int(b/2))\n",
    "    return acc(1,b)\n",
    "\n",
    "power(2,3)"
   ]
  },
  {
   "cell_type": "code",
   "execution_count": 69,
   "metadata": {
    "collapsed": true
   },
   "outputs": [],
   "source": [
    "import turtle\n",
    "def Koch(base, level):\n",
    "    if level == 1:\n",
    "        turtle.forward(base)\n",
    "    else:\n",
    "        Koch(base/3,level-1)\n",
    "        turtle.left(60)\n",
    "        Koch(base/3,level-1)\n",
    "        turtle.right(120)\n",
    "        Koch(base/3,level-1)\n",
    "        turtle.left(60)\n",
    "        Koch(base/3,level-1)\n",
    "\n",
    "#Koch(200,4)        \n",
    "#turtle.speed(100)        \n",
    "#turtle.done()\n",
    "\n",
    "\n",
    "def KochSnowFlake(base, level):\n",
    "    Koch(base,level)\n",
    "    turtle.right(120)\n",
    "    Koch(base,level)\n",
    "    turtle.right(120)\n",
    "    Koch(base,level)\n",
    "\n",
    "    \n",
    "def KochSnowFlake(length, level):\n",
    "    def repeat(times):\n",
    "        if times>=1:\n",
    "            Koch(length, level)\n",
    "            turtle.right(120)\n",
    "            repeat(times-1)\n",
    "    repeat(3)\n",
    "\n",
    "KochSnowFlake(200,3)        \n",
    "turtle.speed(100)        \n",
    "turtle.done()\n",
    "    \n",
    "    "
   ]
  },
  {
   "cell_type": "code",
   "execution_count": 45,
   "metadata": {
    "collapsed": true
   },
   "outputs": [],
   "source": [
    "import turtle\n",
    "turtle.left(90)\n",
    "def Tree(length,level):  \n",
    "    if level == 1:\n",
    "        turtle.forward(length)\n",
    "        turtle.backward(length)\n",
    "    else:\n",
    "        turtle.forward(length)\n",
    "        turtle.left(45)\n",
    "        Tree(length/2,level-1)\n",
    "        turtle.right(90)\n",
    "        Tree(length/2,level-1)\n",
    "        turtle.left(45)\n",
    "        turtle.backward(length)\n",
    "        \n",
    "Tree(50,4)\n",
    "turtle.speed(0)        \n",
    "turtle.done()\n",
    "\n",
    "        \n",
    "        \n",
    "    "
   ]
  },
  {
   "cell_type": "markdown",
   "metadata": {
    "collapsed": true
   },
   "source": [
    "# Recursion with lists using functional programming\n"
   ]
  },
  {
   "cell_type": "code",
   "execution_count": 19,
   "metadata": {},
   "outputs": [
    {
     "data": {
      "text/plain": [
       "[4, 3, 2, 1]"
      ]
     },
     "execution_count": 19,
     "metadata": {},
     "output_type": "execute_result"
    }
   ],
   "source": [
    "def Reverse(L):\n",
    "    if len(L) == 1:\n",
    "        return L\n",
    "    #return Reverse(L[1:])+list(L[0])\n",
    "    return Reverse(L[1:])+[L[0]]\n",
    "        \n",
    "Reverse([1,2,3,4])"
   ]
  },
  {
   "cell_type": "code",
   "execution_count": 82,
   "metadata": {},
   "outputs": [
    {
     "data": {
      "text/plain": [
       "[4, 3, 2, 1]"
      ]
     },
     "execution_count": 82,
     "metadata": {},
     "output_type": "execute_result"
    }
   ],
   "source": [
    "def TailReverse(L):\n",
    "    def acc(X,result):\n",
    "        if len(X) == 1:\n",
    "            return X+result\n",
    "        return acc(X[1:],[X[0]]+result)\n",
    "    return acc(L,[])\n",
    "TailReverse([1,2,3,4])"
   ]
  },
  {
   "cell_type": "code",
   "execution_count": 32,
   "metadata": {},
   "outputs": [
    {
     "data": {
      "text/plain": [
       "10"
      ]
     },
     "execution_count": 32,
     "metadata": {},
     "output_type": "execute_result"
    }
   ],
   "source": [
    "#F(c) = c\n",
    "#F(c.l) = c+F(l[1:])\n",
    "\n",
    "def total(L):\n",
    "    if len(L) == 1:\n",
    "        return int(L[0])\n",
    "    return int(L[0])+total(L[1:])\n",
    "total([1,2,3,4])"
   ]
  },
  {
   "cell_type": "code",
   "execution_count": 40,
   "metadata": {},
   "outputs": [
    {
     "data": {
      "text/plain": [
       "10.1"
      ]
     },
     "execution_count": 40,
     "metadata": {},
     "output_type": "execute_result"
    }
   ],
   "source": [
    "#F(c1,c2) = if(c1>c2) return c1\n",
    "            #else return c2\n",
    "#F(c1,c2,L) = if(c1>c2) return c1.L \n",
    "              #else return c2.L\n",
    "\n",
    "def maximum(L):\n",
    "    if len(L) == 2:\n",
    "        return max(L)\n",
    "    return maximum([max(L[0],L[1])]+L[2:])\n",
    "maximum([1,2,5,3,10,10.1])\n",
    "        "
   ]
  },
  {
   "cell_type": "code",
   "execution_count": 44,
   "metadata": {},
   "outputs": [
    {
     "data": {
      "text/plain": [
       "[10.1]"
      ]
     },
     "execution_count": 44,
     "metadata": {},
     "output_type": "execute_result"
    }
   ],
   "source": [
    "def maximum(L):\n",
    "    if len(L) == 1:\n",
    "        return L\n",
    "    elif L[0]>L[1]:\n",
    "        return maximum([L[0]]+L[2:])\n",
    "    return maximum(L[1:])\n",
    "        \n",
    "maximum([1,2,5,3,10,10.1])"
   ]
  },
  {
   "cell_type": "code",
   "execution_count": 50,
   "metadata": {},
   "outputs": [
    {
     "data": {
      "text/plain": [
       "['a', 'a', 'b', 'b', 1, 1]"
      ]
     },
     "execution_count": 50,
     "metadata": {},
     "output_type": "execute_result"
    }
   ],
   "source": [
    "#write a function stutters which doubles each element of the list.\n",
    "#  For example, stutters([‘a’,’b’,1]) produces [‘a’,’a’,’b’,’b’,1,1]\n",
    "\n",
    "\n",
    "#F(c) = c.c\n",
    "#F(c.L) = c.c.F(L) \n",
    "\n",
    "def sutters(L):\n",
    "    if len(L) == 1:\n",
    "        return L+[L[0]]\n",
    "    return [L[0]]*2 + sutters(L[1:])\n",
    "\n",
    "sutters(['a','b',1])\n",
    "    "
   ]
  },
  {
   "cell_type": "code",
   "execution_count": 54,
   "metadata": {},
   "outputs": [
    {
     "data": {
      "text/plain": [
       "[1, 3, 1]"
      ]
     },
     "execution_count": 54,
     "metadata": {},
     "output_type": "execute_result"
    }
   ],
   "source": [
    "#write a function removes which takes two arguments: a list and an element. It\n",
    "#removes all occurrences of the element from the list.\n",
    "#  For example, removes([1,3,0,1,0],0) produces [1,3,1]\n",
    "\n",
    "\n",
    "#F(c,x) = c(if c is not x)\n",
    "          #null(if c is x)\n",
    "    \n",
    "#F(c.l , x) = F(L,x)(if c is x)\n",
    "            #c.F(L,x)(if c is not x)\n",
    "\n",
    "def removes(L,x):\n",
    "    if len(L) == 1:\n",
    "        if L[0] == x:\n",
    "            return []\n",
    "        return L\n",
    "    else:\n",
    "        if L[0] == x:\n",
    "            return removes(L[1:],x)\n",
    "        return [L[0]]+removes(L[1:],x)\n",
    "    \n",
    "removes([1,3,0,1,0],0)\n",
    "        \n",
    "        \n",
    "        "
   ]
  },
  {
   "cell_type": "code",
   "execution_count": 58,
   "metadata": {},
   "outputs": [
    {
     "data": {
      "text/plain": [
       "[1, 4, 6, 1, 4]"
      ]
     },
     "execution_count": 58,
     "metadata": {},
     "output_type": "execute_result"
    }
   ],
   "source": [
    "#write a function removes that only removes the first occurrence of an element\n",
    "\n",
    "def removes(L,X):\n",
    "    if len(L) == 1:\n",
    "        if L[0] in X:\n",
    "            return L\n",
    "        return []\n",
    "    else:\n",
    "        if L[0] in X:\n",
    "            return [L[0]]+removes(L[1:],X)\n",
    "        return removes(L[1:],[L[0]]+X)\n",
    "    \n",
    "removes([1,1,4,3,4,6,8,6,7,9,5,1,4,2],[])"
   ]
  },
  {
   "cell_type": "code",
   "execution_count": 76,
   "metadata": {},
   "outputs": [
    {
     "data": {
      "text/plain": [
       "[1, 2, 3, 4, 5, 1, 2, 3, 4, 5]"
      ]
     },
     "execution_count": 76,
     "metadata": {},
     "output_type": "execute_result"
    }
   ],
   "source": [
    "#write a function removes which takes as third argument a number k. It removes the first k occurrences of the element.\n",
    "\n",
    "def removes(L,X,k):\n",
    "    if len(L) == 1:\n",
    "        if X.count(L[0])>=k :\n",
    "            return L\n",
    "        return []\n",
    "    else:\n",
    "        if X.count(L[0])>=k :\n",
    "            return [L[0]]+removes(L[1:],X,k)\n",
    "        return removes(L[1:],X+[L[0]],k)\n",
    "        \n",
    "removes([1,2,3,4,5,1,2,3,4,5,1,2,3,4,5,1,2,3,4,5],[],2)"
   ]
  },
  {
   "cell_type": "code",
   "execution_count": 80,
   "metadata": {},
   "outputs": [
    {
     "data": {
      "text/plain": [
       "[2, 2, 5, 3, 4, 2, 4, 2, 5]"
      ]
     },
     "execution_count": 80,
     "metadata": {},
     "output_type": "execute_result"
    }
   ],
   "source": [
    "#write a function replace which takes three arguments: a list L, elements x and y. \n",
    "#It replaces all occurrences of x by y. How would you optimize your function if the list was sorted?\n",
    "\n",
    "def replace(L,x,y):\n",
    "    if len(L) == 1:\n",
    "        if L[0] is x:\n",
    "            return [y]\n",
    "        return L\n",
    "    else:\n",
    "        if L[0] is x:\n",
    "            return [y]+replace(L[1:],x,y)\n",
    "        return [L[0]]+replace(L[1:],x,y)\n",
    "    \n",
    "replace([1,2,5,3,4,2,4,1,5],1,2)"
   ]
  },
  {
   "cell_type": "markdown",
   "metadata": {
    "collapsed": true
   },
   "source": [
    "how to write formal notation \n",
    "\n",
    "\n",
    "$F(c) = c$\n",
    "\n",
    "If $c_1 > c_2, F(c_1.c_2.L) = F(c_1.L)$\n",
    "\n",
    "If $c_1 leq c_2, F(c_1.c_2.L) = F(c_2.L)$\n",
    "\n"
   ]
  },
  {
   "cell_type": "markdown",
   "metadata": {},
   "source": [
    "If $c == element, F(c,element) = Index(c)$ \n",
    "\n",
    "If $c == element, F(c.L,element) = Index(c)$\n",
    "\n",
    "Else, $F(c.L,element) = F(L,elemet)$"
   ]
  },
  {
   "cell_type": "code",
   "execution_count": 1,
   "metadata": {},
   "outputs": [
    {
     "data": {
      "text/plain": [
       "4"
      ]
     },
     "execution_count": 1,
     "metadata": {},
     "output_type": "execute_result"
    }
   ],
   "source": [
    "def firstOccurance(L,x):\n",
    "    if L[0] == x:\n",
    "            return 0\n",
    "    return 1+firstOccurance(L[1:],x)\n",
    "\n",
    "firstOccurance([1,2,3,4,5],5)\n",
    "            "
   ]
  },
  {
   "cell_type": "markdown",
   "metadata": {},
   "source": [
    "IF $L_1 = \\emptyset, F(L_1,L_2) = L_2$\n",
    "\n",
    "IF $L_2 = \\emptyset, F(L_1,L_2) = L_1$\n",
    "\n",
    "If $c >= g, F(c.L_1,g.L_2) = g.F(c.L_1,L_2)$\n",
    "\n",
    "Else, $F(c.L_1,g.L_2) = c.F(L_1,g.L_2)$"
   ]
  },
  {
   "cell_type": "code",
   "execution_count": 3,
   "metadata": {},
   "outputs": [
    {
     "data": {
      "text/plain": [
       "[1, 1, 2, 3, 4, 5, 6, 6, 7, 8, 9, 10]"
      ]
     },
     "execution_count": 3,
     "metadata": {},
     "output_type": "execute_result"
    }
   ],
   "source": [
    "def combineLists(L1,L2):\n",
    "    if len(L1) == 0:\n",
    "        return L2\n",
    "    if len(L2) == 0:\n",
    "        return L1\n",
    "    if L1[0]>= L2[0]:\n",
    "        return [L2[0]] + combineLists(L1,L2[1:])\n",
    "    return [L1[0]] + combineLists(L1[1:],L2)\n",
    "\n",
    "combineLists([1,1,2,3,6],[4,5,6,7,8,9,10])\n",
    "    "
   ]
  },
  {
   "cell_type": "markdown",
   "metadata": {
    "collapsed": true
   },
   "source": [
    "## Parallel Processing of Lists\n"
   ]
  },
  {
   "cell_type": "markdown",
   "metadata": {},
   "source": [
    "$F(x, c) = 1$  If $x == c$\n",
    "         \n",
    "         $= 0$ Else \n",
    "         \n",
    "$F(x,c.L) = 1+F(x,L)$ If $x == c$\n",
    "\n",
    "          $= F(x,L)$ Else "
   ]
  },
  {
   "cell_type": "code",
   "execution_count": 1,
   "metadata": {},
   "outputs": [
    {
     "data": {
      "text/plain": [
       "3"
      ]
     },
     "execution_count": 1,
     "metadata": {},
     "output_type": "execute_result"
    }
   ],
   "source": [
    "def count(x,L):\n",
    "    if len(L) == 1:\n",
    "        if x == L[0]:\n",
    "            return 1\n",
    "        return 0\n",
    "    else:\n",
    "        if x == L[0]:\n",
    "            return 1 + count(x,L[1:])\n",
    "        return count(x,L[1:])\n",
    "\n",
    "count(1,[1,2,3,1,4,1,5,7])"
   ]
  },
  {
   "cell_type": "code",
   "execution_count": 4,
   "metadata": {},
   "outputs": [
    {
     "data": {
      "text/plain": [
       "2"
      ]
     },
     "execution_count": 4,
     "metadata": {},
     "output_type": "execute_result"
    }
   ],
   "source": [
    "import operator\n",
    "from functools import reduce\n",
    "\n",
    "reduce(operator.add,map(lambda x: 1 if x == 'a' else 0, ['b','c','a',0,'a',3]))\n"
   ]
  },
  {
   "cell_type": "code",
   "execution_count": 3,
   "metadata": {},
   "outputs": [
    {
     "data": {
      "text/plain": [
       "2"
      ]
     },
     "execution_count": 3,
     "metadata": {},
     "output_type": "execute_result"
    }
   ],
   "source": [
    "sum(map(lambda x: 1 if x == 'a' else 0, ['b','c','a',0,'a',3]))"
   ]
  },
  {
   "cell_type": "code",
   "execution_count": 37,
   "metadata": {},
   "outputs": [
    {
     "data": {
      "text/plain": [
       "4"
      ]
     },
     "execution_count": 37,
     "metadata": {},
     "output_type": "execute_result"
    }
   ],
   "source": [
    "max(map(lambda x: len(x),[[-3,3],[],['a','b','c','d']]))"
   ]
  },
  {
   "cell_type": "code",
   "execution_count": 16,
   "metadata": {},
   "outputs": [
    {
     "data": {
      "text/plain": [
       "6"
      ]
     },
     "execution_count": 16,
     "metadata": {},
     "output_type": "execute_result"
    }
   ],
   "source": [
    "import operator\n",
    "from functools import reduce\n",
    "def fact(n):\n",
    "#    return list((map(lambda x: x range(n))))\n",
    "    return reduce(operator.mul,range(1,n+1))\n",
    "    \n",
    "fact(3)"
   ]
  },
  {
   "cell_type": "code",
   "execution_count": 35,
   "metadata": {},
   "outputs": [
    {
     "data": {
      "text/plain": [
       "2.7182818284590455"
      ]
     },
     "execution_count": 35,
     "metadata": {},
     "output_type": "execute_result"
    }
   ],
   "source": [
    "def e(k):\n",
    "    return 1+sum(map(lambda k: 1/fact(k),range(1,k+1)))\n",
    "\n",
    "e(100)"
   ]
  },
  {
   "cell_type": "code",
   "execution_count": null,
   "metadata": {
    "collapsed": true
   },
   "outputs": [],
   "source": []
  }
 ],
 "metadata": {
  "kernelspec": {
   "display_name": "Python 3",
   "language": "python",
   "name": "python3"
  },
  "language_info": {
   "codemirror_mode": {
    "name": "ipython",
    "version": 3
   },
   "file_extension": ".py",
   "mimetype": "text/x-python",
   "name": "python",
   "nbconvert_exporter": "python",
   "pygments_lexer": "ipython3",
   "version": "3.6.1"
  }
 },
 "nbformat": 4,
 "nbformat_minor": 2
}
